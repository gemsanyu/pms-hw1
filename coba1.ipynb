{
 "cells": [
  {
   "cell_type": "code",
   "execution_count": 109,
   "id": "292f38c4",
   "metadata": {},
   "outputs": [
    {
     "name": "stderr",
     "output_type": "stream",
     "text": [
      "C:\\Users\\user\\AppData\\Local\\Temp\\ipykernel_27804\\3932857846.py:3: FutureWarning: YF.download() has changed argument auto_adjust default to True\n",
      "  data = yf.download(\"2330.TW\", start=start_date, end=None, interval=\"1d\")\n",
      "[*********************100%***********************]  1 of 1 completed\n"
     ]
    },
    {
     "data": {
      "text/plain": [
       "<bound method NDFrame.head of             Close_2330.TW  High_2330.TW  Low_2330.TW  Open_2330.TW  \\\n",
       "Date                                                                 \n",
       "2023-01-03     432.406616    432.883886   422.861216    425.724836   \n",
       "2023-01-04     429.065735    434.315705   428.111195    429.065735   \n",
       "2023-01-05     437.656616    438.611156   434.315726    438.133886   \n",
       "2023-01-06     437.656616    438.611156   434.315726    434.315726   \n",
       "2023-01-09     459.133667    459.133667   446.247379    446.724649   \n",
       "...                   ...           ...          ...           ...   \n",
       "2025-09-08    1180.000000   1195.000000  1180.000000   1195.000000   \n",
       "2025-09-09    1200.000000   1200.000000  1190.000000   1195.000000   \n",
       "2025-09-10    1225.000000   1230.000000  1215.000000   1220.000000   \n",
       "2025-09-11    1240.000000   1260.000000  1235.000000   1255.000000   \n",
       "2025-09-12    1255.000000   1255.000000  1250.000000   1255.000000   \n",
       "\n",
       "            Volume_2330.TW  \n",
       "Date                        \n",
       "2023-01-03        14885824  \n",
       "2023-01-04        19188422  \n",
       "2023-01-05        23549581  \n",
       "2023-01-06        20886011  \n",
       "2023-01-09        46666263  \n",
       "...                    ...  \n",
       "2025-09-08        27281959  \n",
       "2025-09-09        31329096  \n",
       "2025-09-10        39665156  \n",
       "2025-09-11        30345708  \n",
       "2025-09-12         6434784  \n",
       "\n",
       "[650 rows x 5 columns]>"
      ]
     },
     "execution_count": 109,
     "metadata": {},
     "output_type": "execute_result"
    }
   ],
   "source": [
    "import yfinance as yf\n",
    "start_date = \"2023-01-01\"\n",
    "data = yf.download(\"2330.TW\", start=start_date, end=None, interval=\"1d\")\n",
    "data.columns = ['_'.join(col).strip() for col in data.columns.to_flat_index()]\n",
    "data.head"
   ]
  },
  {
   "cell_type": "code",
   "execution_count": 110,
   "id": "7d0542b2",
   "metadata": {},
   "outputs": [],
   "source": [
    "import pandas as pd\n",
    "import matplotlib.pyplot as plt\n",
    "from catboost import CatBoostRegressor\n",
    "from sklearn.metrics import mean_squared_error\n",
    "from skforecast.datasets import fetch_dataset\n",
    "from skforecast.preprocessing import RollingFeatures\n",
    "from skforecast.recursive import ForecasterRecursive\n",
    "from skforecast.plot import plot_prediction_intervals, set_dark_theme\n",
    "\n",
    "orig_dates = data.index.copy()\n",
    "series_col = \"Close_2330.TW\"\n",
    "exog_cols = [col for col in data.columns if col!=series_col] + ['is_weekend']\n",
    "data = data.asfreq(\"D\").ffill()\n",
    "data = data.sort_index()\n",
    "data.loc[~data.index.isin(orig_dates), \"Volume_2330.TW\"] = 0\n",
    "data['is_weekend'] = data.index.weekday >= 5"
   ]
  },
  {
   "cell_type": "code",
   "execution_count": 111,
   "id": "ce84a661",
   "metadata": {},
   "outputs": [],
   "source": [
    "steps = 300\n",
    "data_train = data[:-steps]\n",
    "data_test  = data[-steps:]\n",
    "# set_dark_theme()\n",
    "# fig, ax = plt.subplots(figsize=(6, 3))\n",
    "# data_train[series_col].plot(ax=ax, label='train')\n",
    "# data_test[series_col].plot(ax=ax, label='test')\n",
    "# ax.legend()"
   ]
  },
  {
   "cell_type": "code",
   "execution_count": 112,
   "id": "24fc3133",
   "metadata": {},
   "outputs": [
    {
     "data": {
      "text/html": [
       "<pre style=\"white-space:pre;overflow-x:auto;line-height:normal;font-family:Menlo,'DejaVu Sans Mono',consolas,'Courier New',monospace\"><span style=\"color: #ffaf00; text-decoration-color: #ffaf00\">╭────────────────────────────────── DataTypeWarning ───────────────────────────────────╮</span>\n",
       "<span style=\"color: #ffaf00; text-decoration-color: #ffaf00\">│</span> `exog` may contain only `int`, `float` or `category` dtypes. Most machine learning   <span style=\"color: #ffaf00; text-decoration-color: #ffaf00\">│</span>\n",
       "<span style=\"color: #ffaf00; text-decoration-color: #ffaf00\">│</span> models do not allow other types of values. Fitting the forecaster may fail.          <span style=\"color: #ffaf00; text-decoration-color: #ffaf00\">│</span>\n",
       "<span style=\"color: #ffaf00; text-decoration-color: #ffaf00\">│</span>                                                                                      <span style=\"color: #ffaf00; text-decoration-color: #ffaf00\">│</span>\n",
       "<span style=\"color: #ffaf00; text-decoration-color: #ffaf00\">│</span> Category : skforecast.exceptions.DataTypeWarning                                     <span style=\"color: #ffaf00; text-decoration-color: #ffaf00\">│</span>\n",
       "<span style=\"color: #ffaf00; text-decoration-color: #ffaf00\">│</span> Location :                                                                           <span style=\"color: #ffaf00; text-decoration-color: #ffaf00\">│</span>\n",
       "<span style=\"color: #ffaf00; text-decoration-color: #ffaf00\">│</span> c:\\Users\\user\\miniconda3\\envs\\lomba\\Lib\\site-packages\\skforecast\\utils\\utils.py:641  <span style=\"color: #ffaf00; text-decoration-color: #ffaf00\">│</span>\n",
       "<span style=\"color: #ffaf00; text-decoration-color: #ffaf00\">│</span> Suppress : warnings.simplefilter('ignore', category=DataTypeWarning)                 <span style=\"color: #ffaf00; text-decoration-color: #ffaf00\">│</span>\n",
       "<span style=\"color: #ffaf00; text-decoration-color: #ffaf00\">╰──────────────────────────────────────────────────────────────────────────────────────╯</span>\n",
       "</pre>\n"
      ],
      "text/plain": [
       "\u001b[38;5;214m╭─\u001b[0m\u001b[38;5;214m─────────────────────────────────\u001b[0m\u001b[38;5;214m DataTypeWarning \u001b[0m\u001b[38;5;214m──────────────────────────────────\u001b[0m\u001b[38;5;214m─╮\u001b[0m\n",
       "\u001b[38;5;214m│\u001b[0m `exog` may contain only `int`, `float` or `category` dtypes. Most machine learning   \u001b[38;5;214m│\u001b[0m\n",
       "\u001b[38;5;214m│\u001b[0m models do not allow other types of values. Fitting the forecaster may fail.          \u001b[38;5;214m│\u001b[0m\n",
       "\u001b[38;5;214m│\u001b[0m                                                                                      \u001b[38;5;214m│\u001b[0m\n",
       "\u001b[38;5;214m│\u001b[0m Category : skforecast.exceptions.DataTypeWarning                                     \u001b[38;5;214m│\u001b[0m\n",
       "\u001b[38;5;214m│\u001b[0m Location :                                                                           \u001b[38;5;214m│\u001b[0m\n",
       "\u001b[38;5;214m│\u001b[0m c:\\Users\\user\\miniconda3\\envs\\lomba\\Lib\\site-packages\\skforecast\\utils\\utils.py:641  \u001b[38;5;214m│\u001b[0m\n",
       "\u001b[38;5;214m│\u001b[0m Suppress : warnings.simplefilter('ignore', category=DataTypeWarning)                 \u001b[38;5;214m│\u001b[0m\n",
       "\u001b[38;5;214m╰──────────────────────────────────────────────────────────────────────────────────────╯\u001b[0m\n"
      ]
     },
     "metadata": {},
     "output_type": "display_data"
    },
    {
     "data": {
      "text/html": [
       "\n",
       "    <style>\n",
       "        .container-3ffc8cf8723e40af8ce1544f9c89c3d6 {\n",
       "            font-family: 'Arial', sans-serif;\n",
       "            font-size: 0.9em;\n",
       "            color: #333333;\n",
       "            border: 1px solid #ddd;\n",
       "            background-color: #f0f8ff;\n",
       "            padding: 5px 15px;\n",
       "            border-radius: 8px;\n",
       "            max-width: 600px;\n",
       "            #margin: auto;\n",
       "        }\n",
       "        .container-3ffc8cf8723e40af8ce1544f9c89c3d6 h2 {\n",
       "            font-size: 1.5em;\n",
       "            color: #222222;\n",
       "            border-bottom: 2px solid #ddd;\n",
       "            padding-bottom: 5px;\n",
       "            margin-bottom: 15px;\n",
       "            margin-top: 5px;\n",
       "        }\n",
       "        .container-3ffc8cf8723e40af8ce1544f9c89c3d6 details {\n",
       "            margin: 10px 0;\n",
       "        }\n",
       "        .container-3ffc8cf8723e40af8ce1544f9c89c3d6 summary {\n",
       "            font-weight: bold;\n",
       "            font-size: 1.1em;\n",
       "            color: #000000;\n",
       "            cursor: pointer;\n",
       "            margin-bottom: 5px;\n",
       "            background-color: #b3dbfd;\n",
       "            padding: 5px;\n",
       "            border-radius: 5px;\n",
       "        }\n",
       "        .container-3ffc8cf8723e40af8ce1544f9c89c3d6 summary:hover {\n",
       "            color: #000000;\n",
       "            background-color: #e0e0e0;\n",
       "        }\n",
       "        .container-3ffc8cf8723e40af8ce1544f9c89c3d6 ul {\n",
       "            font-family: 'Courier New', monospace;\n",
       "            list-style-type: none;\n",
       "            padding-left: 20px;\n",
       "            margin: 10px 0;\n",
       "            line-height: normal;\n",
       "        }\n",
       "        .container-3ffc8cf8723e40af8ce1544f9c89c3d6 li {\n",
       "            margin: 5px 0;\n",
       "            font-family: 'Courier New', monospace;\n",
       "        }\n",
       "        .container-3ffc8cf8723e40af8ce1544f9c89c3d6 li strong {\n",
       "            font-weight: bold;\n",
       "            color: #444444;\n",
       "        }\n",
       "        .container-3ffc8cf8723e40af8ce1544f9c89c3d6 li::before {\n",
       "            content: \"- \";\n",
       "            color: #666666;\n",
       "        }\n",
       "        .container-3ffc8cf8723e40af8ce1544f9c89c3d6 a {\n",
       "            color: #001633;\n",
       "            text-decoration: none;\n",
       "        }\n",
       "        .container-3ffc8cf8723e40af8ce1544f9c89c3d6 a:hover {\n",
       "            color: #359ccb; \n",
       "        }\n",
       "    </style>\n",
       "    \n",
       "        <div class=\"container-3ffc8cf8723e40af8ce1544f9c89c3d6\">\n",
       "            <h2>ForecasterRecursive</h2>\n",
       "            <details open>\n",
       "                <summary>General Information</summary>\n",
       "                <ul>\n",
       "                    <li><strong>Regressor:</strong> LinearRegression</li>\n",
       "                    <li><strong>Lags:</strong> [ 1  2  3  4  5  6  7  8  9 10 11 12 13 14 15]</li>\n",
       "                    <li><strong>Window features:</strong> ['roll_mean_10']</li>\n",
       "                    <li><strong>Window size:</strong> 15</li>\n",
       "                    <li><strong>Series name:</strong> Close_2330.TW</li>\n",
       "                    <li><strong>Exogenous included:</strong> True</li>\n",
       "                    <li><strong>Weight function included:</strong> False</li>\n",
       "                    <li><strong>Differentiation order:</strong> None</li>\n",
       "                    <li><strong>Creation date:</strong> 2025-09-12 10:29:51</li>\n",
       "                    <li><strong>Last fit date:</strong> 2025-09-12 10:29:51</li>\n",
       "                    <li><strong>Skforecast version:</strong> 0.17.0</li>\n",
       "                    <li><strong>Python version:</strong> 3.12.11</li>\n",
       "                    <li><strong>Forecaster id:</strong> None</li>\n",
       "                </ul>\n",
       "            </details>\n",
       "            <details>\n",
       "                <summary>Exogenous Variables</summary>\n",
       "                <ul>\n",
       "                    High_2330.TW, Low_2330.TW, Open_2330.TW, Volume_2330.TW, is_weekend\n",
       "                </ul>\n",
       "            </details>\n",
       "            <details>\n",
       "                <summary>Data Transformations</summary>\n",
       "                <ul>\n",
       "                    <li><strong>Transformer for y:</strong> None</li>\n",
       "                    <li><strong>Transformer for exog:</strong> None</li>\n",
       "                </ul>\n",
       "            </details>\n",
       "            <details>\n",
       "                <summary>Training Information</summary>\n",
       "                <ul>\n",
       "                    <li><strong>Training range:</strong> [Timestamp('2023-01-03 00:00:00'), Timestamp('2024-11-16 00:00:00')]</li>\n",
       "                    <li><strong>Training index type:</strong> DatetimeIndex</li>\n",
       "                    <li><strong>Training index frequency:</strong> D</li>\n",
       "                </ul>\n",
       "            </details>\n",
       "            <details>\n",
       "                <summary>Regressor Parameters</summary>\n",
       "                <ul>\n",
       "                    {'copy_X': True, 'fit_intercept': True, 'n_jobs': None, 'positive': False}\n",
       "                </ul>\n",
       "            </details>\n",
       "            <details>\n",
       "                <summary>Fit Kwargs</summary>\n",
       "                <ul>\n",
       "                    {}\n",
       "                </ul>\n",
       "            </details>\n",
       "            <p>\n",
       "                <a href=\"https://skforecast.org/0.17.0/api/forecasterrecursive.html\">&#128712 <strong>API Reference</strong></a>\n",
       "                &nbsp;&nbsp;\n",
       "                <a href=\"https://skforecast.org/0.17.0/user_guides/autoregresive-forecaster.html\">&#128462 <strong>User Guide</strong></a>\n",
       "            </p>\n",
       "        </div>\n",
       "        "
      ],
      "text/plain": [
       "=================== \n",
       "ForecasterRecursive \n",
       "=================== \n",
       "Regressor: LinearRegression \n",
       "Lags: [ 1  2  3  4  5  6  7  8  9 10 11 12 13 14 15] \n",
       "Window features: ['roll_mean_10'] \n",
       "Window size: 15 \n",
       "Series name: Close_2330.TW \n",
       "Exogenous included: True \n",
       "Exogenous names: \n",
       "    High_2330.TW, Low_2330.TW, Open_2330.TW, Volume_2330.TW, is_weekend \n",
       "Transformer for y: None \n",
       "Transformer for exog: None \n",
       "Weight function included: False \n",
       "Differentiation order: None \n",
       "Training range: [Timestamp('2023-01-03 00:00:00'), Timestamp('2024-11-16 00:00:00')] \n",
       "Training index type: DatetimeIndex \n",
       "Training index frequency: D \n",
       "Regressor parameters: \n",
       "    {'copy_X': True, 'fit_intercept': True, 'n_jobs': None, 'positive': False} \n",
       "fit_kwargs: {} \n",
       "Creation date: 2025-09-12 10:29:51 \n",
       "Last fit date: 2025-09-12 10:29:51 \n",
       "Skforecast version: 0.17.0 \n",
       "Python version: 3.12.11 \n",
       "Forecaster id: None "
      ]
     },
     "execution_count": 112,
     "metadata": {},
     "output_type": "execute_result"
    }
   ],
   "source": [
    "from sklearn.linear_model import LinearRegression\n",
    "forecaster = ForecasterRecursive(\n",
    "                 regressor       = LinearRegression(),\n",
    "                 lags            = 15,\n",
    "                 window_features = RollingFeatures(stats=['mean'], window_sizes=10),\n",
    "                 transformer_y   = None, \n",
    "             )\n",
    "\n",
    "forecaster.fit(y=data_train[series_col], exog=data_train[exog_cols], store_in_sample_residuals=True)\n",
    "forecaster"
   ]
  },
  {
   "cell_type": "code",
   "execution_count": 113,
   "id": "b335bbad",
   "metadata": {},
   "outputs": [
    {
     "data": {
      "text/html": [
       "<pre style=\"white-space:pre;overflow-x:auto;line-height:normal;font-family:Menlo,'DejaVu Sans Mono',consolas,'Courier New',monospace\"><span style=\"color: #ffaf00; text-decoration-color: #ffaf00\">╭────────────────────────────────── DataTypeWarning ───────────────────────────────────╮</span>\n",
       "<span style=\"color: #ffaf00; text-decoration-color: #ffaf00\">│</span> `exog` may contain only `int`, `float` or `category` dtypes. Most machine learning   <span style=\"color: #ffaf00; text-decoration-color: #ffaf00\">│</span>\n",
       "<span style=\"color: #ffaf00; text-decoration-color: #ffaf00\">│</span> models do not allow other types of values. Fitting the forecaster may fail.          <span style=\"color: #ffaf00; text-decoration-color: #ffaf00\">│</span>\n",
       "<span style=\"color: #ffaf00; text-decoration-color: #ffaf00\">│</span>                                                                                      <span style=\"color: #ffaf00; text-decoration-color: #ffaf00\">│</span>\n",
       "<span style=\"color: #ffaf00; text-decoration-color: #ffaf00\">│</span> Category : skforecast.exceptions.DataTypeWarning                                     <span style=\"color: #ffaf00; text-decoration-color: #ffaf00\">│</span>\n",
       "<span style=\"color: #ffaf00; text-decoration-color: #ffaf00\">│</span> Location :                                                                           <span style=\"color: #ffaf00; text-decoration-color: #ffaf00\">│</span>\n",
       "<span style=\"color: #ffaf00; text-decoration-color: #ffaf00\">│</span> c:\\Users\\user\\miniconda3\\envs\\lomba\\Lib\\site-packages\\skforecast\\utils\\utils.py:641  <span style=\"color: #ffaf00; text-decoration-color: #ffaf00\">│</span>\n",
       "<span style=\"color: #ffaf00; text-decoration-color: #ffaf00\">│</span> Suppress : warnings.simplefilter('ignore', category=DataTypeWarning)                 <span style=\"color: #ffaf00; text-decoration-color: #ffaf00\">│</span>\n",
       "<span style=\"color: #ffaf00; text-decoration-color: #ffaf00\">╰──────────────────────────────────────────────────────────────────────────────────────╯</span>\n",
       "</pre>\n"
      ],
      "text/plain": [
       "\u001b[38;5;214m╭─\u001b[0m\u001b[38;5;214m─────────────────────────────────\u001b[0m\u001b[38;5;214m DataTypeWarning \u001b[0m\u001b[38;5;214m──────────────────────────────────\u001b[0m\u001b[38;5;214m─╮\u001b[0m\n",
       "\u001b[38;5;214m│\u001b[0m `exog` may contain only `int`, `float` or `category` dtypes. Most machine learning   \u001b[38;5;214m│\u001b[0m\n",
       "\u001b[38;5;214m│\u001b[0m models do not allow other types of values. Fitting the forecaster may fail.          \u001b[38;5;214m│\u001b[0m\n",
       "\u001b[38;5;214m│\u001b[0m                                                                                      \u001b[38;5;214m│\u001b[0m\n",
       "\u001b[38;5;214m│\u001b[0m Category : skforecast.exceptions.DataTypeWarning                                     \u001b[38;5;214m│\u001b[0m\n",
       "\u001b[38;5;214m│\u001b[0m Location :                                                                           \u001b[38;5;214m│\u001b[0m\n",
       "\u001b[38;5;214m│\u001b[0m c:\\Users\\user\\miniconda3\\envs\\lomba\\Lib\\site-packages\\skforecast\\utils\\utils.py:641  \u001b[38;5;214m│\u001b[0m\n",
       "\u001b[38;5;214m│\u001b[0m Suppress : warnings.simplefilter('ignore', category=DataTypeWarning)                 \u001b[38;5;214m│\u001b[0m\n",
       "\u001b[38;5;214m╰──────────────────────────────────────────────────────────────────────────────────────╯\u001b[0m\n"
      ]
     },
     "metadata": {},
     "output_type": "display_data"
    },
    {
     "data": {
      "text/plain": [
       "2024-11-17    1023.928720\n",
       "2024-11-18    1013.258831\n",
       "2024-11-19    1023.991610\n",
       "Freq: D, Name: pred, dtype: float64"
      ]
     },
     "execution_count": 113,
     "metadata": {},
     "output_type": "execute_result"
    }
   ],
   "source": [
    "predictions = forecaster.predict(steps=steps, exog=data_test[exog_cols])\n",
    "predictions.head(3)"
   ]
  },
  {
   "cell_type": "code",
   "execution_count": 114,
   "id": "6ad20ab7",
   "metadata": {},
   "outputs": [
    {
     "data": {
      "text/plain": [
       "<matplotlib.legend.Legend at 0x1964072aff0>"
      ]
     },
     "execution_count": 114,
     "metadata": {},
     "output_type": "execute_result"
    },
    {
     "data": {
      "image/png": "[encoded data removed]",
      "text/plain": [
       "<Figure size 700x300 with 1 Axes>"
      ]
     },
     "metadata": {},
     "output_type": "display_data"
    }
   ],
   "source": [
    "fig, ax = plt.subplots(figsize=(7, 3))\n",
    "data_train[series_col].plot(ax=ax, label='train')\n",
    "data_test[series_col].plot(ax=ax, label='test')\n",
    "predictions.plot(ax=ax, label='predictions')\n",
    "ax.legend()"
   ]
  },
  {
   "cell_type": "code",
   "execution_count": 115,
   "id": "a444877c",
   "metadata": {},
   "outputs": [
    {
     "name": "stdout",
     "output_type": "stream",
     "text": [
      "5.933721189022128\n"
     ]
    }
   ],
   "source": [
    "from sklearn.metrics import root_mean_squared_error\n",
    "y_true = data_test[series_col].values\n",
    "y_pred = predictions.values\n",
    "error = root_mean_squared_error(y_true, y_pred)\n",
    "print(error)"
   ]
  },
  {
   "cell_type": "code",
   "execution_count": null,
   "id": "95b9332d",
   "metadata": {},
   "outputs": [],
   "source": []
  }
 ],
 "metadata": {
  "kernelspec": {
   "display_name": "lomba",
   "language": "python",
   "name": "python3"
  },
  "language_info": {
   "codemirror_mode": {
    "name": "ipython",
    "version": 3
   },
   "file_extension": ".py",
   "mimetype": "text/x-python",
   "name": "python",
   "nbconvert_exporter": "python",
   "pygments_lexer": "ipython3",
   "version": "3.12.11"
  }
 },
 "nbformat": 4,
 "nbformat_minor": 5
}
