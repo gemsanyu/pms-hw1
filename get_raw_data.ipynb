{
 "cells": [
  {
   "cell_type": "code",
   "execution_count": 19,
   "id": "0e9fee14",
   "metadata": {},
   "outputs": [
    {
     "name": "stderr",
     "output_type": "stream",
     "text": [
      "C:\\Users\\user\\AppData\\Local\\Temp\\ipykernel_164\\2806894172.py:4: FutureWarning: YF.download() has changed argument auto_adjust default to True\n",
      "  data_tsmc = yf.download(\"2330.TW\", start=start_date, end=None, interval=\"1d\")\n",
      "[*********************100%***********************]  1 of 1 completed\n",
      "C:\\Users\\user\\AppData\\Local\\Temp\\ipykernel_164\\2806894172.py:5: FutureWarning: YF.download() has changed argument auto_adjust default to True\n",
      "  data_nvidia = yf.download(\"NVDA\", start=start_date, end=None, interval=\"1d\")\n",
      "[*********************100%***********************]  1 of 1 completed\n",
      "C:\\Users\\user\\AppData\\Local\\Temp\\ipykernel_164\\2806894172.py:6: FutureWarning: YF.download() has changed argument auto_adjust default to True\n",
      "  data_amd = yf.download(\"AMD\", start=start_date, end=None, interval=\"1d\")\n",
      "[*********************100%***********************]  1 of 1 completed\n"
     ]
    }
   ],
   "source": [
    "import yfinance as yf\n",
    "import pandas as pd\n",
    "start_date = \"2015-01-05\"\n",
    "data_tsmc = yf.download(\"2330.TW\", start=start_date, end=None, interval=\"1d\")\n",
    "data_nvidia = yf.download(\"NVDA\", start=start_date, end=None, interval=\"1d\")\n",
    "data_amd = yf.download(\"AMD\", start=start_date, end=None, interval=\"1d\")\n",
    "data = pd.concat([data_tsmc, data_nvidia, data_amd], axis=1)\n",
    "data.columns = ['_'.join(col).strip() + \"(today)\" for col in data.columns.to_flat_index()]\n"
   ]
  },
  {
   "cell_type": "code",
   "execution_count": 20,
   "id": "20e2b755",
   "metadata": {},
   "outputs": [],
   "source": [
    "orig_dates = data.index.copy()\n",
    "data = data.asfreq(\"D\").ffill()\n",
    "data = data.sort_index()\n",
    "data.loc[~data.index.isin(orig_dates), \"Volume_2330.TW(today)\"] = 0\n",
    "data['is_weekend'] = data.index.weekday >= 5\n"
   ]
  },
  {
   "cell_type": "code",
   "execution_count": 24,
   "id": "ed2426bd",
   "metadata": {},
   "outputs": [],
   "source": [
    "data['Close_2330.TW(tomorrow)'] = data['Close_2330.TW(today)'].shift(-1)\n",
    "data = data.dropna()\n",
    "data.to_csv(\"raw_data.csv\")"
   ]
  }
 ],
 "metadata": {
  "kernelspec": {
   "display_name": "lomba",
   "language": "python",
   "name": "python3"
  },
  "language_info": {
   "codemirror_mode": {
    "name": "ipython",
    "version": 3
   },
   "file_extension": ".py",
   "mimetype": "text/x-python",
   "name": "python",
   "nbconvert_exporter": "python",
   "pygments_lexer": "ipython3",
   "version": "3.12.11"
  }
 },
 "nbformat": 4,
 "nbformat_minor": 5
}
