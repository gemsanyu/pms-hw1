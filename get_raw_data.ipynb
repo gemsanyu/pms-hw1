{
 "cells": [
  {
   "cell_type": "code",
   "execution_count": 3,
   "id": "0e9fee14",
   "metadata": {},
   "outputs": [
    {
     "name": "stderr",
     "output_type": "stream",
     "text": [
      "C:\\Users\\user\\AppData\\Local\\Temp\\ipykernel_2828\\342969641.py:7: FutureWarning: YF.download() has changed argument auto_adjust default to True\n",
      "  data_tsmc = yf.download(\"2330.TW\", start=start_date, end=None, interval=\"1d\")\n",
      "[*********************100%***********************]  1 of 1 completed\n",
      "C:\\Users\\user\\AppData\\Local\\Temp\\ipykernel_2828\\342969641.py:8: FutureWarning: YF.download() has changed argument auto_adjust default to True\n",
      "  data_nvidia = yf.download(\"NVDA\", start=start_date, end=None, interval=\"1d\")\n",
      "[*********************100%***********************]  1 of 1 completed\n",
      "C:\\Users\\user\\AppData\\Local\\Temp\\ipykernel_2828\\342969641.py:9: FutureWarning: YF.download() has changed argument auto_adjust default to True\n",
      "  data_amd = yf.download(\"AMD\", start=start_date, end=None, interval=\"1d\")\n",
      "[*********************100%***********************]  1 of 1 completed"
     ]
    },
    {
     "name": "stdout",
     "output_type": "stream",
     "text": [
      "Index(['Close_2330.TW', 'Return_2330.TW(yesterday)',\n",
      "       'Close_2330.TW(yesterday)', 'Volume_2330.TW(yesterday)',\n",
      "       'Return_NVDA(yesterday)', 'Close_NVDA(yesterday)',\n",
      "       'Volume_NVDA(yesterday)', 'Return_AMD(yesterday)',\n",
      "       'Close_AMD(yesterday)', 'Volume_AMD(yesterday)'],\n",
      "      dtype='object')\n"
     ]
    },
    {
     "name": "stderr",
     "output_type": "stream",
     "text": [
      "\n",
      "C:\\Users\\user\\AppData\\Local\\Temp\\ipykernel_2828\\342969641.py:17: SettingWithCopyWarning: \n",
      "A value is trying to be set on a copy of a slice from a DataFrame.\n",
      "Try using .loc[row_indexer,col_indexer] = value instead\n",
      "\n",
      "See the caveats in the documentation: https://pandas.pydata.org/pandas-docs/stable/user_guide/indexing.html#returning-a-view-versus-a-copy\n",
      "  data[\"Return_2330.TW(yesterday)\"] = np.log(data[series_col] / data[series_col].shift(1)).shift(1)\n",
      "C:\\Users\\user\\AppData\\Local\\Temp\\ipykernel_2828\\342969641.py:20: SettingWithCopyWarning: \n",
      "A value is trying to be set on a copy of a slice from a DataFrame.\n",
      "Try using .loc[row_indexer,col_indexer] = value instead\n",
      "\n",
      "See the caveats in the documentation: https://pandas.pydata.org/pandas-docs/stable/user_guide/indexing.html#returning-a-view-versus-a-copy\n",
      "  data[\"Close_2330.TW(yesterday)\"] = data_tsmc[series_col].shift(1)\n",
      "C:\\Users\\user\\AppData\\Local\\Temp\\ipykernel_2828\\342969641.py:23: SettingWithCopyWarning: \n",
      "A value is trying to be set on a copy of a slice from a DataFrame.\n",
      "Try using .loc[row_indexer,col_indexer] = value instead\n",
      "\n",
      "See the caveats in the documentation: https://pandas.pydata.org/pandas-docs/stable/user_guide/indexing.html#returning-a-view-versus-a-copy\n",
      "  data[\"Volume_2330.TW(yesterday)\"] = data_tsmc[\"Volume_2330.TW\"].shift(1)\n"
     ]
    }
   ],
   "source": [
    "import yfinance as yf\n",
    "import pandas as pd\n",
    "import matplotlib.pyplot as plt\n",
    "import numpy as np\n",
    "\n",
    "start_date = \"2024-01-05\"\n",
    "data_tsmc = yf.download(\"2330.TW\", start=start_date, end=None, interval=\"1d\")\n",
    "data_nvidia = yf.download(\"NVDA\", start=start_date, end=None, interval=\"1d\")\n",
    "data_amd = yf.download(\"AMD\", start=start_date, end=None, interval=\"1d\")\n",
    "data_tsmc.columns = ['_'.join(col).strip() for col in data_tsmc.columns.to_flat_index()]\n",
    "data_nvidia.columns = ['_'.join(col).strip() for col in data_nvidia.columns.to_flat_index()]\n",
    "data_amd.columns = ['_'.join(col).strip() for col in data_amd.columns.to_flat_index()]\n",
    "series_col = 'Close_2330.TW'\n",
    "data = data_tsmc[[series_col]]\n",
    "\n",
    "# Yesterday's return (as before)\n",
    "data[\"Return_2330.TW(yesterday)\"] = np.log(data[series_col] / data[series_col].shift(1)).shift(1)\n",
    "\n",
    "# Yesterday's actual closing price\n",
    "data[\"Close_2330.TW(yesterday)\"] = data_tsmc[series_col].shift(1)\n",
    "\n",
    "# Yesterday's volume\n",
    "data[\"Volume_2330.TW(yesterday)\"] = data_tsmc[\"Volume_2330.TW\"].shift(1)\n",
    "\n",
    "\n",
    "# ---- NVDA ----\n",
    "data[\"Return_NVDA(yesterday)\"] = np.log(data_nvidia[\"Close_NVDA\"] / data_nvidia[\"Close_NVDA\"].shift(1)).shift(1)\n",
    "data[\"Close_NVDA(yesterday)\"]  = data_nvidia[\"Close_NVDA\"].shift(1)\n",
    "data[\"Volume_NVDA(yesterday)\"] = data_nvidia[\"Volume_NVDA\"].shift(1)\n",
    "\n",
    "\n",
    "# ---- AMD ----\n",
    "data[\"Return_AMD(yesterday)\"] = np.log(data_amd[\"Close_AMD\"] / data_amd[\"Close_AMD\"].shift(1)).shift(1)\n",
    "data[\"Close_AMD(yesterday)\"]  = data_amd[\"Close_AMD\"].shift(1)\n",
    "data[\"Volume_AMD(yesterday)\"] = data_amd[\"Volume_AMD\"].shift(1)\n",
    "exog_cols = [col for col in data.columns if col not in[\"Date\",\"Close_2330.TW\"]]\n",
    "print(data.columns)\n",
    "data.to_csv(\"raw_data.csv\")"
   ]
  },
  {
   "cell_type": "code",
   "execution_count": 20,
   "id": "20e2b755",
   "metadata": {},
   "outputs": [],
   "source": [
    "orig_dates = data.index.copy()\n",
    "data = data.asfreq(\"D\").ffill()\n",
    "data = data.sort_index()\n",
    "data.loc[~data.index.isin(orig_dates), \"Volume_2330.TW(today)\"] = 0\n",
    "data['is_weekend'] = data.index.weekday >= 5\n"
   ]
  },
  {
   "cell_type": "code",
   "execution_count": 24,
   "id": "ed2426bd",
   "metadata": {},
   "outputs": [],
   "source": [
    "data['Close_2330.TW(tomorrow)'] = data['Close_2330.TW(today)'].shift(-1)\n",
    "data = data.dropna()\n",
    "data.to_csv(\"raw_data.csv\")"
   ]
  }
 ],
 "metadata": {
  "kernelspec": {
   "display_name": "lomba",
   "language": "python",
   "name": "python3"
  },
  "language_info": {
   "codemirror_mode": {
    "name": "ipython",
    "version": 3
   },
   "file_extension": ".py",
   "mimetype": "text/x-python",
   "name": "python",
   "nbconvert_exporter": "python",
   "pygments_lexer": "ipython3",
   "version": "3.12.11"
  }
 },
 "nbformat": 4,
 "nbformat_minor": 5
}
